{
 "cells": [
  {
   "cell_type": "code",
   "execution_count": 10,
   "metadata": {},
   "outputs": [
    {
     "name": "stdout",
     "output_type": "stream",
     "text": [
      "10\n",
      "15\n",
      "20\n",
      "25\n",
      "30\n",
      "35\n",
      "40\n"
     ]
    }
   ],
   "source": [
    "import tensorflow as tf\n",
    "from tensorflow.keras.preprocessing.image import ImageDataGenerator\n",
    "from tensorflow.keras.preprocessing import image\n",
    "import os\n",
    "import numpy as np\n",
    "import matplotlib.pyplot as plt\n",
    "import numpy as np\n",
    "from skimage import io\n",
    "from PIL import Image\n",
    "\n",
    "train_datagen = ImageDataGenerator(\n",
    "    rotation_range=180,\n",
    "    horizontal_flip=True,\n",
    "    vertical_flip=True,\n",
    "    width_shift_range=0.25,\n",
    "    height_shift_range=0.25,\n",
    "    shear_range=0.2,\n",
    "    fill_mode='reflect',\n",
    ")\n",
    "\n",
    "# https://github.com/bnsreenu/python_for_microscopists/blob/master/127_data_augmentation_using_keras.py\n",
    "\n",
    "dataset = []\n",
    "\n",
    "for image_class in os.listdir('Experimental_Stuff/'):\n",
    "    image_class_path = os.path.join('Experimental_Stuff/', image_class)\n",
    "    \n",
    "    _, _, files = next(os.walk(image_class_path))\n",
    "    number_files = len(files)\n",
    "\n",
    "    images_needed = 40 - number_files\n",
    "        \n",
    "    if images_needed > 0:\n",
    "        images = os.listdir(image_class_path)\n",
    "        for i, image_name in enumerate(imgs):\n",
    "            image_path = os.path.join(image_class_path, image_name)\n",
    "            image = io.imread(image_path)\n",
    "            image = Image.fromarray(image, 'RGB')\n",
    "            dataset.append(np.array(image))\n",
    "        \n",
    "        x = np.array(dataset)\n",
    "\n",
    "        for batch in train_datagen.flow(x, batch_size=32,  \n",
    "                                        save_to_dir=image_class_path, \n",
    "                                        save_prefix='aug', \n",
    "                                        save_format='jpg'):\n",
    "            \n",
    "            _, _, files = next(os.walk(image_class_path))\n",
    "            number_files = len(files)\n",
    "            print(number_files)\n",
    "            if (number_files >= 40):\n",
    "                break"
   ]
  },
  {
   "cell_type": "code",
   "execution_count": null,
   "metadata": {},
   "outputs": [],
   "source": []
  }
 ],
 "metadata": {
  "kernelspec": {
   "display_name": "Python 3 (ipykernel)",
   "language": "python",
   "name": "python3"
  },
  "language_info": {
   "codemirror_mode": {
    "name": "ipython",
    "version": 3
   },
   "file_extension": ".py",
   "mimetype": "text/x-python",
   "name": "python",
   "nbconvert_exporter": "python",
   "pygments_lexer": "ipython3",
   "version": "3.10.12"
  }
 },
 "nbformat": 4,
 "nbformat_minor": 4
}
